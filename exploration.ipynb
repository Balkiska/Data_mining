{
  "cells": [
    {
      "cell_type": "markdown",
      "metadata": {
        "id": "GiDDlKj6ba0y"
      },
      "source": [
        "## Exploration\n",
        "\n",
        "\n"
      ]
    },
    {
      "cell_type": "markdown",
      "metadata": {
        "id": "FFL6RlGitoTc"
      },
      "source": [
        "Voici une liste de 15 chiens qui ont participé à une compétition. Pour chacun on retrouve: leur nom, leur score en épreuve d'Agility, leur score en épreuve de Jumping, leur année de naissance et leur race. Aucune connaissance dans ce domaine n'est requise pour résoudre cet exercice."
      ]
    },
    {
      "cell_type": "code",
      "execution_count": 3,
      "metadata": {
        "id": "yXKuXjphcfEZ"
      },
      "outputs": [],
      "source": [
        "chiens = [\n",
        "    {\"nom\": \"Nala\", \"note_agility\": 15, \"note_jumping\": 14, \"naissance\": 2020, \"race\": \"Welsh Corgi\"},\n",
        "    {\"nom\": \"Tempete\", \"note_agility\": 12, \"note_jumping\": 13, \"naissance\": 2018, \"race\": \"Berger des Shetland\"},\n",
        "    {\"nom\": \"Lucky\", \"note_agility\": 18, \"note_jumping\": 17, \"naissance\": 2021, \"race\": \"Berger Australien\"},\n",
        "    {\"nom\": \"Snoopy\", \"note_agility\": 13, \"note_jumping\": 12, \"naissance\": 2019, \"race\": \"Border Collie\"},\n",
        "    {\"nom\": \"Nougat\", \"note_agility\": 13, \"note_jumping\": 12, \"naissance\": 2021, \"race\": \"Caniche\"},\n",
        "    {\"nom\": \"Merlin\", \"note_agility\": 14, \"note_jumping\": 12, \"naissance\": 2020, \"race\": \"Border Collie\"},\n",
        "    {\"nom\": \"Laika\", \"note_agility\": 11, \"note_jumping\": 9, \"naissance\": 2018, \"race\": \"Berger Australien\"},\n",
        "    {\"nom\": \"Noisette\", \"note_agility\": 13, \"note_jumping\": 11, \"naissance\": 2019, \"race\": \"Welsh Corgi\"},\n",
        "    {\"nom\": \"Jazz\", \"note_agility\": 17, \"note_jumping\": 10, \"naissance\": 2018, \"race\": \"Berger Australien\"},\n",
        "    {\"nom\": \"Simba\", \"note_agility\": 13, \"note_jumping\": 9, \"naissance\": 2020, \"race\": \"Caniche\"},\n",
        "    {\"nom\": \"Newton\", \"note_agility\": 10, \"note_jumping\": 10, \"naissance\": 2018, \"race\": \"Berger des Shetland\"},\n",
        "    {\"nom\": \"Kiwi\", \"note_agility\": 18, \"note_jumping\": 13, \"naissance\": 2021, \"race\": \"Border Collie\"},\n",
        "    {\"nom\": \"Oslo\", \"note_agility\": 19, \"note_jumping\": 8, \"naissance\": 2021, \"race\": \"Border Collie\"},\n",
        "    {\"nom\": \"Sushi\", \"note_agility\": 19, \"note_jumping\": 15, \"naissance\": 2020, \"race\": \"Border Collie\"},\n",
        "    {\"nom\": \"Happy\", \"note_agility\": 13, \"note_jumping\": 8, \"naissance\": 2021, \"race\": \"Berger Australien\"}\n",
        "]"
      ]
    },
    {
      "cell_type": "markdown",
      "metadata": {
        "id": "pi-EAwBIkTyQ"
      },
      "source": [
        "1 - Qui a la meilleure note et la moins bonne note en épreuve d'Agility ? Écrire une fonction qui affiche le résultat."
      ]
    },
    {
      "cell_type": "code",
      "execution_count": 4,
      "metadata": {
        "id": "nBjq-OmnnM7d"
      },
      "outputs": [
        {
          "name": "stdout",
          "output_type": "stream",
          "text": [
            "Le chien qui a la plus grande note est : Oslo avec la note de 19\n",
            "Le chien qui a la plus petite note est : Newton avec la note de 10\n"
          ]
        }
      ],
      "source": [
        "\n",
        "def agility(chiens):\n",
        "    note = 0\n",
        "    note_max = 0\n",
        "    nom_max = \"\"\n",
        "    nom_min = \"\"\n",
        "\n",
        "    for chien in chiens:\n",
        "        note = chien[\"note_agility\"]\n",
        "        if note > note_max:\n",
        "            note_max = note\n",
        "            nom_max = chien[\"nom\"]\n",
        "        if note < note_min:\n",
        "            note_min = note\n",
        "            nom_min = chien[\"nom\"]\n",
        "\n",
        "    print(\"Le chien qui a la plus grande note est : \" + nom_max + \" avec la note de \" + str(note_max))\n",
        "    print(\"Le chien qui a la plus petite note est : \" + nom_min + \" avec la note de \" + str(note_min))\n",
        "\n",
        "agility(chiens)\n"
      ]
    },
    {
      "cell_type": "markdown",
      "metadata": {
        "id": "hNJ6r7donuCY"
      },
      "source": [
        "2 - Quelle est la moyenne globale de l'épreuve de Jumping ? Écrire une fonction qui affiche le résultat."
      ]
    },
    {
      "cell_type": "code",
      "execution_count": 7,
      "metadata": {
        "id": "exUztIUBnwCn"
      },
      "outputs": [
        {
          "name": "stdout",
          "output_type": "stream",
          "text": [
            "11.533333333333333\n"
          ]
        }
      ],
      "source": [
        "def moyenne_globale_note_jumping(chiens):\n",
        "    somme = 0\n",
        "    nbr_de_chiens = 0\n",
        "\n",
        "    for chien in chiens:\n",
        "        somme = somme + chien[\"note_jumping\"]\n",
        "        nbr_de_chiens = nbr_de_chiens + 1\n",
        "    \n",
        "    print(somme / nbr_de_chiens)\n",
        "\n",
        "moyenne_globale_note_jumping(chiens)"
      ]
    },
    {
      "cell_type": "markdown",
      "metadata": {
        "id": "7JifWmYJnwl7"
      },
      "source": [
        "3 - Quelle est la race qui apparait le plus souvent ? Écrire une fonction qui affiche le résultat."
      ]
    },
    {
      "cell_type": "code",
      "execution_count": 11,
      "metadata": {
        "id": "WmycO0JunyE0"
      },
      "outputs": [
        {
          "name": "stdout",
          "output_type": "stream",
          "text": [
            "Border Collie\n"
          ]
        }
      ],
      "source": [
        "def most_current_breed(chiens):\n",
        "    iteration = dict()\n",
        "\n",
        "    for chien in chiens:\n",
        "        if chien[\"race\"] not in iteration:\n",
        "           iteration[chien[\"race\"]] = 1 \n",
        "        else:\n",
        "            iteration[chien[\"race\"]] += 1 #+= vaut iteration = iteration[chien[\"race\"]] + 1\n",
        "    # print(iteration) pour vérifier si le nombre correspond\n",
        "    max_value = 0\n",
        "    max_key = \"\" \n",
        "   \n",
        "    for key, value in iteration.items():\n",
        "        if value >max_value:\n",
        "            max_value = value \n",
        "            max_key = key\n",
        "            \n",
        "    print(max_key)\n",
        "most_current_breed(chiens)    "
      ]
    },
    {
      "cell_type": "markdown",
      "metadata": {},
      "source": [
        "A;B;A;B;A;A;A"
      ]
    },
    {
      "cell_type": "markdown",
      "metadata": {
        "id": "pbVlQOZ1uqhO"
      },
      "source": [
        "4 - Lister toutes les races de chiens présents dans la compétition. Écrire une fonction qui affiche le résultat."
      ]
    },
    {
      "cell_type": "code",
      "execution_count": 12,
      "metadata": {
        "id": "V_L6eNIeuz3a"
      },
      "outputs": [
        {
          "name": "stdout",
          "output_type": "stream",
          "text": [
            "['Welsh Corgi', 'Berger des Shetland', 'Berger Australien', 'Border Collie', 'Caniche']\n"
          ]
        }
      ],
      "source": [
        "def list_all_dog_breeds(chiens):\n",
        "    breeds = []\n",
        "\n",
        "    for chien in chiens:\n",
        "        if chien[\"race\"] not in breeds:\n",
        "            breeds.append(chien[\"race\"])\n",
        "\n",
        "    print(breeds)\n",
        "\n",
        "list_all_dog_breeds(chiens)"
      ]
    },
    {
      "cell_type": "markdown",
      "metadata": {
        "id": "JCUQm4mznyeh"
      },
      "source": [
        "5 - Lister les noms des chiens nés après 2019 et ayant au moins une de ses deux notes supérieure ou égale à 15. Écrire une fonction qui affiche le résultat."
      ]
    },
    {
      "cell_type": "code",
      "execution_count": 14,
      "metadata": {
        "id": "LDjuiW5dn0XR"
      },
      "outputs": [
        {
          "name": "stdout",
          "output_type": "stream",
          "text": [
            "['Lucky', 'Kiwi', 'Oslo', 'Sushi']\n"
          ]
        }
      ],
      "source": [
        "def dogs_filter(chiens):\n",
        "\n",
        "    filtered_dogs = []\n",
        "\n",
        "    for chien in chiens:\n",
        "        if chien[\"naissance\"] > 2019:\n",
        "            if chien[\"note_agility\"] > 15 or chien[\"note_jumping\"] > 15:\n",
        "                filtered_dogs.append(chien[\"nom\"])\n",
        "    \n",
        "    print(filtered_dogs)\n",
        "\n",
        "dogs_filter(chiens)\n"
      ]
    },
    {
      "cell_type": "markdown",
      "metadata": {
        "id": "jj2qtYd9n0ss"
      },
      "source": [
        "6 - Deux nouveaux chiens arrivent dans la compétition:\n",
        "```\n",
        "{\"nom\": \"Rocky\", \"note_agility\": 16, \"note_jumping\": 18, \"naissance\": 2020, \"race\": \"Caniche\"}\n",
        "et\n",
        "{\"nom\": \"Oreo\", \"note_agility\": 10, \"note_jumping\": 13, \"naissance\": 2017, \"race\": \"Berger Allemand\"}\n",
        "```\n",
        "Ajouter les nouveaux chiens à la liste puis répondre à nouveau aux questions 1 à 5."
      ]
    },
    {
      "cell_type": "code",
      "execution_count": 4,
      "metadata": {
        "id": "Xm3UrmfZn2Zx"
      },
      "outputs": [],
      "source": [
        "new_dog1 = {\"nom\": \"Rocky\", \"note_agility\": 16, \"note_jumping\": 18, \"naissance\": 2020, \"race\": \"Caniche\"}\n",
        "\n",
        "new_dog2 = {\"nom\": \"Oreo\", \"note_agility\": 10, \"note_jumping\": 13, \"naissance\": 2017, \"race\": \"Berger Allemand\"}\n",
        "\n",
        "chiens.append(new_dog1)\n",
        "chiens.append(new_dog2)\n"
      ]
    },
    {
      "cell_type": "markdown",
      "metadata": {
        "id": "mm25SuEan5Qn"
      },
      "source": [
        "7 - Quel est le classement de Rocky le nouveau chien, pour chacune des deux épreuves ? Écrire une fonction qui affiche le résultat."
      ]
    },
    {
      "cell_type": "code",
      "execution_count": 25,
      "metadata": {
        "id": "1Pf_u1Ahn3e0"
      },
      "outputs": [
        {
          "name": "stdout",
          "output_type": "stream",
          "text": [
            "Classement d'Rocky en agilité : 6\n",
            "Classement d'Rocky en saut : 1\n"
          ]
        }
      ],
      "source": [
        "\n",
        "def classer_chiens_par_agility(chien):\n",
        "    return chien[\"note_agility\"]\n",
        "\n",
        "def classer_chiens_par_jumping(chien):\n",
        "    return chien[\"note_jumping\"]\n",
        "\n",
        "def trouver_classement(chiens, nom_chien):\n",
        "    classement_agility = sorted(chiens, key=classer_chiens_par_agility, reverse=True)\n",
        "    classement_jumping = sorted(chiens, key=classer_chiens_par_jumping, reverse=True)\n",
        "\n",
        "    classement_agility = [chien[\"nom\"] for chien in classement_agility].index(nom_chien) + 1\n",
        "    classement_jumping = [chien[\"nom\"] for chien in classement_jumping].index(nom_chien) + 1\n",
        "\n",
        "    return classement_agility, classement_jumping\n",
        "\n",
        "nom_chien = \"Rocky\"\n",
        "classement_agility, classement_jumping = trouver_classement(chiens, nom_chien)\n",
        "\n",
        "print(f\"Classement d'{nom_chien} en agilité : {classement_agility}\")\n",
        "print(f\"Classement d'{nom_chien} en saut : {classement_jumping}\")\n",
        "\n"
      ]
    },
    {
      "cell_type": "markdown",
      "metadata": {
        "id": "XjVQ3KoVr7NQ"
      },
      "source": [
        "8 - Quelle race de chien    a la moyenne en Agility      la plus élevée        ? Écrire une fonction qui affiche le résultat."
      ]
    },
    {
      "cell_type": "code",
      "execution_count": 8,
      "metadata": {
        "id": "mkrql5wHsLmq"
      },
      "outputs": [
        {
          "name": "stdout",
          "output_type": "stream",
          "text": [
            "['Welsh Corgi', 'Berger des Shetland', 'Berger Australien', 'Border Collie', 'Caniche', 'Berger Allemand']\n",
            "Welsh Corgi\n",
            "14.0\n",
            "Berger des Shetland\n",
            "11.0\n",
            "Berger Australien\n",
            "14.75\n",
            "Border Collie\n",
            "16.6\n",
            "Caniche\n",
            "14.0\n",
            "Berger Allemand\n",
            "10.0\n",
            "RACE MAX Border Collie avec une moyenne de 16.6\n"
          ]
        }
      ],
      "source": [
        "def list_all_dog_breeds(chiens):\n",
        "    breeds = []\n",
        "\n",
        "    for chien in chiens:\n",
        "        if chien[\"race\"] not in breeds:\n",
        "            breeds.append(chien[\"race\"])\n",
        "    return breeds\n",
        "\n",
        "def moyenne_race_agility(chiens, race):\n",
        "    somme = 0\n",
        "    nbr_de_chiens = 0\n",
        "\n",
        "    for chien in chiens:\n",
        "        if race == chien[\"race\"]:\n",
        "            somme = somme + chien[\"note_agility\"]\n",
        "            nbr_de_chiens = nbr_de_chiens + 1\n",
        "\n",
        "    \n",
        "    print(somme / nbr_de_chiens)\n",
        "    return somme/nbr_de_chiens\n",
        "\n",
        "\n",
        "\n",
        "all_breeds = list_all_dog_breeds(chiens)\n",
        "\n",
        "print(all_breeds)\n",
        "\n",
        "\n",
        "\n",
        "moyenne_max = 0\n",
        "race_max = \"\"\n",
        "\n",
        "\n",
        "for la_race in all_breeds: \n",
        "    print(la_race)\n",
        "    moyenne = moyenne_race_agility(chiens, la_race)\n",
        "\n",
        "\n",
        "    if moyenne > moyenne_max:\n",
        "        moyenne_max = moyenne\n",
        "        race_max = la_race\n",
        "\n",
        "print(\"RACE MAX\", race_max, \"avec une moyenne de\", moyenne_max)\n",
        "\n"
      ]
    }
  ],
  "metadata": {
    "colab": {
      "collapsed_sections": [
        "khqLlx7pnoVq",
        "Rmm-CfTan3Bf",
        "FHAI_gZropjA",
        "7SJvomow4a2k"
      ],
      "provenance": []
    },
    "kernelspec": {
      "display_name": "Python 3",
      "name": "python3"
    },
    "language_info": {
      "codemirror_mode": {
        "name": "ipython",
        "version": 3
      },
      "file_extension": ".py",
      "mimetype": "text/x-python",
      "name": "python",
      "nbconvert_exporter": "python",
      "pygments_lexer": "ipython3",
      "version": "3.10.10"
    }
  },
  "nbformat": 4,
  "nbformat_minor": 0
}
